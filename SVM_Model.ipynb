{
 "cells": [
  {
   "cell_type": "code",
   "execution_count": 1,
   "metadata": {},
   "outputs": [
    {
     "name": "stderr",
     "output_type": "stream",
     "text": [
      "d:\\anaconda3\\lib\\site-packages\\scipy\\__init__.py:155: UserWarning: A NumPy version >=1.18.5 and <1.25.0 is required for this version of SciPy (detected version 1.26.2\n",
      "  warnings.warn(f\"A NumPy version >={np_minversion} and <{np_maxversion}\"\n"
     ]
    },
    {
     "name": "stdout",
     "output_type": "stream",
     "text": [
      "WARNING:tensorflow:From d:\\anaconda3\\lib\\site-packages\\keras\\src\\losses.py:2976: The name tf.losses.sparse_softmax_cross_entropy is deprecated. Please use tf.compat.v1.losses.sparse_softmax_cross_entropy instead.\n",
      "\n"
     ]
    },
    {
     "name": "stderr",
     "output_type": "stream",
     "text": [
      "[nltk_data] Downloading package stopwords to\n",
      "[nltk_data]     C:\\Users\\Haneen\\AppData\\Roaming\\nltk_data...\n",
      "[nltk_data]   Package stopwords is already up-to-date!\n",
      "[nltk_data] Downloading package omw-1.4 to\n",
      "[nltk_data]     C:\\Users\\Haneen\\AppData\\Roaming\\nltk_data...\n",
      "[nltk_data]   Package omw-1.4 is already up-to-date!\n",
      "[nltk_data] Downloading package wordnet to\n",
      "[nltk_data]     C:\\Users\\Haneen\\AppData\\Roaming\\nltk_data...\n",
      "[nltk_data]   Package wordnet is already up-to-date!\n"
     ]
    }
   ],
   "source": [
    "from First_Dataset import First_Dataset\n",
    "from Second_Dataset import Second_Dataset"
   ]
  },
  {
   "cell_type": "code",
   "execution_count": 2,
   "metadata": {},
   "outputs": [],
   "source": [
    "from SVM import SVM"
   ]
  },
  {
   "cell_type": "code",
   "execution_count": 3,
   "metadata": {},
   "outputs": [],
   "source": [
    "model = SVM()"
   ]
  },
  {
   "cell_type": "code",
   "execution_count": 4,
   "metadata": {},
   "outputs": [
    {
     "name": "stdout",
     "output_type": "stream",
     "text": [
      "Training...\n",
      "Validating...\n",
      "Accuracy: 0.6689419795221843\n",
      "Classification Report:\n",
      "               precision    recall  f1-score   support\n",
      "\n",
      "         HOF       0.61      0.41      0.49       226\n",
      "         NOT       0.69      0.83      0.76       360\n",
      "\n",
      "    accuracy                           0.67       586\n",
      "   macro avg       0.65      0.62      0.62       586\n",
      "weighted avg       0.66      0.67      0.65       586\n",
      "\n"
     ]
    }
   ],
   "source": [
    "dataset = Second_Dataset()\n",
    "dataset.preprocess()\n",
    "\n",
    "dataset.split_2()\n",
    "Training_pad, Validation_pad, Testing_pad, Y_train, Y_val, Y_test = dataset.getData()\n",
    "\n",
    "model.convert_to_tfidf(Training_pad, Validation_pad, Testing_pad)\n",
    "\n",
    "model.train_SVM(Y_train)\n",
    "model.evaluate_SVM()\n",
    "accuracy, report = model.calcAccuracy(Y_test)\n",
    "\n",
    "print(\"Accuracy:\", accuracy)\n",
    "print(\"Classification Report:\\n\", report)"
   ]
  },
  {
   "cell_type": "code",
   "execution_count": 5,
   "metadata": {},
   "outputs": [
    {
     "name": "stdout",
     "output_type": "stream",
     "text": [
      "Training...\n",
      "Validating...\n",
      "Accuracy: 0.9357142857142857\n",
      "Classification Report:\n",
      "               precision    recall  f1-score   support\n",
      "\n",
      "           0       0.91      0.83      0.87       143\n",
      "           2       0.94      0.97      0.96       417\n",
      "\n",
      "    accuracy                           0.94       560\n",
      "   macro avg       0.93      0.90      0.91       560\n",
      "weighted avg       0.94      0.94      0.93       560\n",
      "\n"
     ]
    }
   ],
   "source": [
    "dataset = First_Dataset()\n",
    "dataset.preprocess()\n",
    "\n",
    "dataset.split_2()\n",
    "Training_pad, Validation_pad, Testing_pad, Y_train, Y_val, Y_test = dataset.getData()\n",
    "\n",
    "model.convert_to_tfidf(Training_pad, Validation_pad, Testing_pad)\n",
    "\n",
    "model.train_SVM(Y_train)\n",
    "model.evaluate_SVM()\n",
    "accuracy, report = model.calcAccuracy(Y_test)\n",
    "\n",
    "print(\"Accuracy:\", accuracy)\n",
    "print(\"Classification Report:\\n\", report)"
   ]
  },
  {
   "cell_type": "code",
   "execution_count": null,
   "metadata": {},
   "outputs": [],
   "source": []
  }
 ],
 "metadata": {
  "kernelspec": {
   "display_name": "base",
   "language": "python",
   "name": "python3"
  },
  "language_info": {
   "codemirror_mode": {
    "name": "ipython",
    "version": 3
   },
   "file_extension": ".py",
   "mimetype": "text/x-python",
   "name": "python",
   "nbconvert_exporter": "python",
   "pygments_lexer": "ipython3",
   "version": "3.9.13"
  }
 },
 "nbformat": 4,
 "nbformat_minor": 2
}
